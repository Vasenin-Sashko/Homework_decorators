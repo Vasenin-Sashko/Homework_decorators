{
 "cells": [
  {
   "cell_type": "code",
   "execution_count": 15,
   "metadata": {},
   "outputs": [
    {
     "data": {
      "text/plain": [
       "45"
      ]
     },
     "execution_count": 15,
     "metadata": {},
     "output_type": "execute_result"
    }
   ],
   "source": [
    "# 1. Написать декоратор - логгер. Он записывает в файл дату и время вызова функции, имя функции, аргументы, \n",
    "# с которыми вызвалась и возвращаемое значение.\n",
    "\n",
    "from datetime import datetime\n",
    "\n",
    "def decor_log(func):\n",
    "    def new_func(*args, **kwargs):\n",
    "        date_time = datetime.now()\n",
    "        func_name = func.__name__\n",
    "        result = func(*args, **kwargs)\n",
    "        with open('decor_log.txt', 'w', encoding='utf-8') as f:\n",
    "            f.write(f'Дата/время: {date_time}\\n'\n",
    "                    f'Имя функции: {func_name}\\n'\n",
    "                    f'Аргументы: {args, kwargs}\\n'\n",
    "                    f'Результат: {result}\\n')\n",
    "        return result\n",
    "    return new_func\n",
    "\n",
    "@decor_log\n",
    "def number(a, b):\n",
    "\treturn a * b\n",
    "\n",
    "number(5, b=9)"
   ]
  },
  {
   "cell_type": "code",
   "execution_count": 23,
   "metadata": {},
   "outputs": [
    {
     "data": {
      "text/plain": [
       "8"
      ]
     },
     "execution_count": 23,
     "metadata": {},
     "output_type": "execute_result"
    }
   ],
   "source": [
    "# 2. Написать декоратор из п.1, но с параметром – путь к логам\n",
    "FILE_PATH = 'decor_log.txt'\n",
    "\n",
    "def path_to_logs(parameter_path_to_logs):\n",
    "    def decor_log(func):\n",
    "        def new_func(*args, **kwargs):\n",
    "            date_time = datetime.now()\n",
    "            func_name = func.__name__\n",
    "            result = func(*args, **kwargs)\n",
    "            with open(FILE_PATH, 'w', encoding='utf-8') as f:\n",
    "                f.write(f'Дата/время: {date_time}\\n'\n",
    "                        f'Имя функции: {func_name}\\n'\n",
    "                        f'Аргументы: {args, kwargs}\\n'\n",
    "                        f'Результат: {result}\\n')\n",
    "            return result\n",
    "        return new_func\n",
    "    return decor_log\n",
    "\n",
    "@path_to_logs(FILE_PATH)\n",
    "def number(a, b):\n",
    "    return a * b\n",
    "\n",
    "number(4, b=2)\n"
   ]
  },
  {
   "cell_type": "code",
   "execution_count": 24,
   "metadata": {},
   "outputs": [
    {
     "data": {
      "text/plain": [
       "'phonebook.csv'"
      ]
     },
     "execution_count": 24,
     "metadata": {},
     "output_type": "execute_result"
    }
   ],
   "source": [
    "#3. Применить написанный логгер к приложению из любого предыдущего д/з\n",
    "\n",
    "FILE_PATH = 'decor_log.txt'\n",
    "\n",
    "def path_to_logs(parameter_path_to_logs):\n",
    "    def decor_log(func):\n",
    "        def new_func(*args, **kwargs):\n",
    "            date_time = datetime.now()\n",
    "            func_name = func.__name__\n",
    "            result = func(*args, **kwargs)\n",
    "            with open('decor_log.txt', 'w', encoding='utf-8') as f:\n",
    "                f.write(f'Дата/время: {date_time}\\n'\n",
    "                        f'Имя функции: {func_name}\\n'\n",
    "                        f'Аргументы: {args, kwargs}\\n'\n",
    "                        f'Результат: {result}\\n')\n",
    "            return result\n",
    "        return new_func\n",
    "    return decor_log\n",
    "\n",
    "@path_to_logs(FILE_PATH)\n",
    "def get_file(path_to_file: str):\n",
    "    return path_to_file\n",
    "    \n",
    "\n",
    "get_file('phonebook.csv')"
   ]
  }
 ],
 "metadata": {
  "kernelspec": {
   "display_name": "Python 3.10.2 64-bit (system)",
   "language": "python",
   "name": "python3"
  },
  "language_info": {
   "codemirror_mode": {
    "name": "ipython",
    "version": 3
   },
   "file_extension": ".py",
   "mimetype": "text/x-python",
   "name": "python",
   "nbconvert_exporter": "python",
   "pygments_lexer": "ipython3",
   "version": "3.10.2"
  },
  "orig_nbformat": 4,
  "vscode": {
   "interpreter": {
    "hash": "994fe58c225d184ae47d1f91db353c1f2f9d58fadae3179ee0bd9ae5b84726c8"
   }
  }
 },
 "nbformat": 4,
 "nbformat_minor": 2
}
